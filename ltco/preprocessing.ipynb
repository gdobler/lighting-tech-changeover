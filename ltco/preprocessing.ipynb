{
 "cells": [
  {
   "cell_type": "markdown",
   "id": "2d6ee468",
   "metadata": {},
   "source": [
    "# **Data Parsing and Preprocessing**\n",
    "\n",
    "---"
   ]
  },
  {
   "cell_type": "code",
   "execution_count": 1,
   "id": "18df1681",
   "metadata": {},
   "outputs": [],
   "source": [
    "import os\n",
    "import time\n",
    "import numpy as np\n",
    "import matplotlib.pyplot as plt\n",
    "import dask.array as da\n",
    "from hyss_util import *"
   ]
  },
  {
   "cell_type": "markdown",
   "id": "fdb14c0f",
   "metadata": {},
   "source": [
    "**SET MPL DEFAULTS**"
   ]
  },
  {
   "cell_type": "code",
   "execution_count": 2,
   "id": "c44eee3c",
   "metadata": {},
   "outputs": [],
   "source": [
    "%matplotlib widget"
   ]
  },
  {
   "cell_type": "code",
   "execution_count": 3,
   "id": "bd545c21",
   "metadata": {},
   "outputs": [],
   "source": [
    "# -- set mpl defaults\n",
    "plt.rcParams[\"image.interpolation\"] = \"nearest\"\n",
    "plt.rcParams[\"image.cmap\"] = \"gist_gray\"\n",
    "plt.rcParams[\"figure.figsize\"] = (10, 5)"
   ]
  },
  {
   "cell_type": "markdown",
   "id": "d5704ba6",
   "metadata": {},
   "source": [
    "**LOAD THE HYPERSPECTRAL DATA**"
   ]
  },
  {
   "cell_type": "markdown",
   "id": "c0fc76e0",
   "metadata": {},
   "source": [
    "To load the data, set the `LTCO_HSI0` and `LTCO_HSI1` environment variables,"
   ]
  },
  {
   "cell_type": "code",
   "execution_count": 4,
   "id": "6bdf3ad8",
   "metadata": {},
   "outputs": [],
   "source": [
    "# -- set the data paths\n",
    "dpath0 = os.path.join(os.environ[\"LTCO_HSI0\"], \"full frame 20ms faster_VNIR.raw\")\n",
    "dpath1 = os.path.join(os.environ[\"LTCO_HSI1\"], \"night_00000.raw\")"
   ]
  },
  {
   "cell_type": "code",
   "execution_count": 6,
   "id": "b1a25e9a",
   "metadata": {},
   "outputs": [
    {
     "name": "stdout",
     "output_type": "stream",
     "text": [
      "reading and parsing full frame 20ms faster_VNIR.hdr...\n",
      "reading full frame 20ms faster_VNIR.raw...\n",
      "average brightness is 52.56469692011806\n"
     ]
    }
   ],
   "source": [
    "# -- calculate average brightness of HSI0\n",
    "cube0 = read_hyper(dpath0)\n",
    "print(\"average brightness is {0}\".format(cube0.data.mean()))"
   ]
  },
  {
   "cell_type": "code",
   "execution_count": null,
   "id": "399742b0",
   "metadata": {},
   "outputs": [],
   "source": []
  },
  {
   "cell_type": "markdown",
   "id": "1c20bc38",
   "metadata": {},
   "source": [
    "**DEFINE CLEANING FUNCTIONS**"
   ]
  },
  {
   "cell_type": "code",
   "execution_count": null,
   "id": "9038e159",
   "metadata": {},
   "outputs": [],
   "source": [
    "def sig_clipping_mean(arr, axis, niter=10, thr=3):\n",
    "    \n",
    "    # -- check for dask array\n",
    "    if type(arr) is da.core.Array:\n",
    "        return sig_clipping_mean_da(arr, axis, niter=niter, thr=thr)\n",
    "    \n",
    "    # -- convert to masked array\n",
    "    arr = np.ma.masked_array(arr)\n",
    "    \n",
    "    # -- loop through iterations\n",
    "    t00 = time.time()\n",
    "    t0 = time.time()\n",
    "    for ii in range(niter):\n",
    "        print(\"cleaning axis {0} - |·\".format(axis) + \"·\" * ii + \" \" * (niter - 1 - ii) + \"| \" \n",
    "              + \"Elapsed time : {0:.2f}s | \".format(time.time() - t00) \n",
    "              + \"Estimated remaining : {0:.2f}s\".format((time.time() - t0) * (niter - ii + 1))\n",
    "              + \"\\r\", end=\"\")\n",
    "        \n",
    "        t0 = time.time()\n",
    "        avg = np.ma.mean(arr, axis=axis, keepdims=True)\n",
    "        sig = np.ma.std(arr, axis=axis, keepdims=True)\n",
    "        arr.mask = (arr > avg + thr * sig) | (arr < avg - thr * sig)\n",
    "    print(\"\")\n",
    "    \n",
    "    # -- subtract mean and return\n",
    "    return (arr.data - np.ma.mean(arr, axis=axis, keepdims=True)).data"
   ]
  },
  {
   "cell_type": "code",
   "execution_count": null,
   "id": "70a82825",
   "metadata": {},
   "outputs": [],
   "source": [
    "def clean_hyper(arr, niter=10, thr=3, split=True):\n",
    "    \n",
    "    if split:\n",
    "        srow = arr.shape[1] // 2\n",
    "        print(\"cleaning top then bottom, split at row {0}\".format(srow))\n",
    "        \n",
    "        return np.hstack(\n",
    "            (sig_clipping_mean(sig_clipping_mean(arr[:, :srow, :], 2, niter=niter, thr=thr), 1, niter=niter, thr=thr), \n",
    "             sig_clipping_mean(sig_clipping_mean(arr[:, srow:, :], 2, niter=niter, thr=thr), 1, niter=niter, thr=thr))\n",
    "                        )\n",
    "\n",
    "    else:\n",
    "        return sig_clipping_mean(sig_clipping_mean(arr, 2, niter=niter, thr=thr), 1, niter=niter, thr=thr)"
   ]
  },
  {
   "cell_type": "markdown",
   "id": "d21230e4",
   "metadata": {},
   "source": [
    "---"
   ]
  },
  {
   "cell_type": "markdown",
   "id": "2661ce81",
   "metadata": {},
   "source": [
    "## HSI0 Data Cleaning"
   ]
  },
  {
   "cell_type": "code",
   "execution_count": null,
   "id": "9e5be098",
   "metadata": {},
   "outputs": [],
   "source": [
    "# -- read cleaned and registered if available, create if not\n",
    "oname = \"hsi0_clean_reg.npy\"\n",
    "\n",
    "if os.path.isfile(oname):\n",
    "    # -- read in the HSI0 scan\n",
    "    cube0 = read_hyper(dpath0)\n",
    "    \n",
    "    # -- read in the cleaned and \"registered\" cube\n",
    "    clean0_tr = np.load(oname)\n",
    "\n",
    "else:\n",
    "    # -- read in the HSI0 scan\n",
    "    cube0 = read_hyper(dpath0)\n",
    "\n",
    "    # -- clean HSI0\n",
    "    clean0 = clean_hyper(cube0.data, niter=2)\n",
    "    \n",
    "    # -- *roughly* align with HSI1\n",
    "    clean0_tr = clean0[:, 238:933, :1087]\n",
    "    \n",
    "    # -- write to file\n",
    "    np.save(oname, clean0_tr)"
   ]
  },
  {
   "cell_type": "markdown",
   "id": "9b0ebe40",
   "metadata": {},
   "source": [
    "---"
   ]
  },
  {
   "cell_type": "markdown",
   "id": "1a00e4f1",
   "metadata": {},
   "source": [
    "## Create masked aggregate spectrum"
   ]
  },
  {
   "cell_type": "code",
   "execution_count": null,
   "id": "377f4a86",
   "metadata": {},
   "outputs": [],
   "source": [
    "# -- set up row/col grid\n",
    "cc, rr = np.meshgrid(range(clean0_tr.shape[2]), range(clean0_tr.shape[1]))\n",
    "\n",
    "# -- get pixels for patch\n",
    "pchs = [[320, 320, 695, 475], \n",
    "        [165, 130, 400, 225]]\n",
    "\n",
    "# -- make the patches\n",
    "pval = -9999\n",
    "for pch in pchs:\n",
    "    pind = (rr >= pch[0]) & (rr < pch[2]) & (cc >= pch[1]) & (cc < pch[3]) \n",
    "    clean0_tr[:, pind] = pval"
   ]
  },
  {
   "cell_type": "code",
   "execution_count": null,
   "id": "155ba37c",
   "metadata": {},
   "outputs": [],
   "source": [
    "# -- get aggregate spectrum\n",
    "gind = clean0_tr[0] != pval\n",
    "hsi0_spec_agg = clean0_tr[:, gind].mean(axis=1)\n",
    "hsi0_spec_agg = (hsi0_spec_agg - hsi0_spec_agg.min()) / (hsi0_spec_agg.max() - hsi0_spec_agg.min())"
   ]
  },
  {
   "cell_type": "markdown",
   "id": "d97d18ac",
   "metadata": {},
   "source": [
    "---"
   ]
  },
  {
   "cell_type": "markdown",
   "id": "1fc04b2f",
   "metadata": {},
   "source": [
    "## Correlation with LSPDD and NOAA templates"
   ]
  },
  {
   "cell_type": "code",
   "execution_count": null,
   "id": "9e1d50e2",
   "metadata": {},
   "outputs": [],
   "source": [
    "# -- load templates\n",
    "tmpl = np.load(\"final_spectra_20.npy\")\n",
    "\n",
    "# -- normalize templates\n",
    "tmpl = (tmpl - tmpl.min(axis=0, keepdims=True)) / (tmpl.max(axis=0, keepdims=True) - tmpl.min(axis=0, keepdims=True))\n",
    "\n",
    "# -- load wavelengths\n",
    "tmpl_waves = np.load(\"lspdd_lab_spectra_wavelengths.npy\")"
   ]
  },
  {
   "cell_type": "code",
   "execution_count": null,
   "id": "5ae17597",
   "metadata": {},
   "outputs": [],
   "source": [
    "# -- plot the templates\n",
    "plt.close(\"all\")\n",
    "fig, ax = plt.subplots(5, 4, sharex=True, sharey=True)\n",
    "for ii in range(tmpl.shape[1]):\n",
    "    ax[ii // 4, ii % 4].plot(tmpl_waves, tmpl[:, ii])\n",
    "    ax[ii // 4, ii % 4].set_yticks(np.linspace(0, 1, 5))\n",
    "    if ii // 4 == 4:\n",
    "        ax[ii // 4, ii % 4].set_xlabel(\"wavelength [nm]\")"
   ]
  },
  {
   "cell_type": "code",
   "execution_count": null,
   "id": "79074835",
   "metadata": {},
   "outputs": [],
   "source": [
    "# -- set the minimum and maximum wavelengths\n",
    "wmin = max(cube0.waves.min(), tmpl_waves.min())\n",
    "wmax = min(cube0.waves.max(), tmpl_waves.max())\n",
    "\n",
    "# -- create the interpolated wavelength array\n",
    "waves_intp = cube0.waves[(cube0.waves >= wmin) & (cube0.waves <= wmax)]\n",
    "\n",
    "# -- interpolate hsi0 spectrum and templates\n",
    "hsi0_spec_agg_intp = np.interp(waves_intp, cube0.waves, hsi0_spec_agg)\n",
    "tmpl_intp = np.array([np.interp(waves_intp, tmpl_waves, i) for i in tmpl.T]).T"
   ]
  },
  {
   "cell_type": "code",
   "execution_count": null,
   "id": "632df2dd",
   "metadata": {},
   "outputs": [],
   "source": [
    "# -- plot the interpolated templates\n",
    "plt.close(\"all\")\n",
    "fig, ax = plt.subplots(5, 4, sharex=True, sharey=True)\n",
    "for ii in range(tmpl.shape[1]):\n",
    "    ax[ii // 4, ii % 4].plot(tmpl_waves, tmpl[:, ii])\n",
    "    ax[ii // 4, ii % 4].plot(waves_intp, tmpl_intp[:, ii], \".\", ms=1)\n",
    "    ax[ii // 4, ii % 4].set_yticks(np.linspace(0, 1, 5))\n",
    "    if ii // 4 == 4:\n",
    "        ax[ii // 4, ii % 4].set_xlabel(\"wavelength [nm]\")"
   ]
  },
  {
   "cell_type": "code",
   "execution_count": null,
   "id": "4afcabeb",
   "metadata": {},
   "outputs": [],
   "source": [
    "# -- plot the HSI0 aggregate interpolated spectrum\n",
    "plt.close(\"all\")\n",
    "plt.plot(cube0.waves, hsi0_spec_agg)\n",
    "plt.plot(waves_intp, hsi0_spec_agg_intp, \".\", ms=2)\n",
    "plt.xlabel(\"wavelength [nm]\")\n",
    "plt.show()"
   ]
  },
  {
   "cell_type": "code",
   "execution_count": null,
   "id": "a9eb1699",
   "metadata": {},
   "outputs": [],
   "source": [
    "np.linalg.solve?"
   ]
  },
  {
   "cell_type": "code",
   "execution_count": null,
   "id": "ac195d6d",
   "metadata": {},
   "outputs": [],
   "source": [
    "# -- correlate by solving the normal equation\n",
    "A = np.hstack([tmpl_intp, np.ones((tmpl_intp.shape[0], 1))]).T\n",
    "coef = np.linalg.inv(A @ A.T) @ (hsi0_spec_agg_intp @ A.T)"
   ]
  },
  {
   "cell_type": "code",
   "execution_count": null,
   "id": "fe45119e",
   "metadata": {},
   "outputs": [],
   "source": [
    "# -- plot the model\n",
    "plt.close(\"all\")\n",
    "plt.plot(waves_intp, hsi0_spec_agg_intp, lw=2)\n",
    "plt.plot(waves_intp, coef @ A, lw=2)\n",
    "plt.xlabel(\"wavelength [nm]\")\n",
    "plt.show()"
   ]
  },
  {
   "cell_type": "code",
   "execution_count": null,
   "id": "6533497b",
   "metadata": {},
   "outputs": [],
   "source": [
    "np.interp?"
   ]
  },
  {
   "cell_type": "code",
   "execution_count": null,
   "id": "28f8948d",
   "metadata": {},
   "outputs": [],
   "source": []
  },
  {
   "cell_type": "code",
   "execution_count": null,
   "id": "9a2ba134",
   "metadata": {},
   "outputs": [],
   "source": []
  },
  {
   "cell_type": "code",
   "execution_count": null,
   "id": "23ad6866",
   "metadata": {},
   "outputs": [],
   "source": [
    "\n",
    "np.interp()"
   ]
  },
  {
   "cell_type": "code",
   "execution_count": null,
   "id": "b34715a8",
   "metadata": {},
   "outputs": [],
   "source": []
  },
  {
   "cell_type": "code",
   "execution_count": null,
   "id": "09e90d1c",
   "metadata": {},
   "outputs": [],
   "source": []
  },
  {
   "cell_type": "code",
   "execution_count": null,
   "id": "70cce24f",
   "metadata": {},
   "outputs": [],
   "source": [
    "tmpl.shape"
   ]
  },
  {
   "cell_type": "code",
   "execution_count": null,
   "id": "4903e1a3",
   "metadata": {},
   "outputs": [],
   "source": []
  },
  {
   "cell_type": "code",
   "execution_count": null,
   "id": "1779635c",
   "metadata": {},
   "outputs": [],
   "source": [
    "plt.close(\"all\")\n",
    "plt.plot(cube0.waves, hsi0_spec_agg)"
   ]
  },
  {
   "cell_type": "code",
   "execution_count": null,
   "id": "2cfc6216",
   "metadata": {},
   "outputs": [],
   "source": []
  },
  {
   "cell_type": "code",
   "execution_count": null,
   "id": "6908a2d7",
   "metadata": {},
   "outputs": [],
   "source": [
    "clean0_tr.shape"
   ]
  },
  {
   "cell_type": "code",
   "execution_count": null,
   "id": "750b7325",
   "metadata": {},
   "outputs": [],
   "source": [
    "cc.shape"
   ]
  },
  {
   "cell_type": "code",
   "execution_count": null,
   "id": "769709ef",
   "metadata": {},
   "outputs": [],
   "source": []
  },
  {
   "cell_type": "code",
   "execution_count": null,
   "id": "e9629e92",
   "metadata": {},
   "outputs": [],
   "source": []
  },
  {
   "cell_type": "code",
   "execution_count": null,
   "id": "661ac779",
   "metadata": {},
   "outputs": [],
   "source": [
    "cc"
   ]
  },
  {
   "cell_type": "code",
   "execution_count": null,
   "id": "bafccfd0",
   "metadata": {},
   "outputs": [],
   "source": []
  },
  {
   "cell_type": "code",
   "execution_count": null,
   "id": "e3194810",
   "metadata": {},
   "outputs": [],
   "source": []
  },
  {
   "cell_type": "code",
   "execution_count": null,
   "id": "de64cda1",
   "metadata": {},
   "outputs": [],
   "source": [
    "imgL = clean0_tr.mean(axis=0)"
   ]
  },
  {
   "cell_type": "code",
   "execution_count": null,
   "id": "8ef4006d",
   "metadata": {},
   "outputs": [],
   "source": [
    "plt.close(\"all\")\n",
    "plt.imshow(imgL, aspect=\"auto\", clim=[-2, 3])"
   ]
  },
  {
   "cell_type": "code",
   "execution_count": null,
   "id": "794544c9",
   "metadata": {},
   "outputs": [],
   "source": []
  },
  {
   "cell_type": "code",
   "execution_count": null,
   "id": "a0a13fad",
   "metadata": {},
   "outputs": [],
   "source": [
    "# -- write 8-bit\n",
    "write_hyper_8bit(\"hsi0_clean_8bit_clip_0050.npy\", clean0, 50)"
   ]
  },
  {
   "cell_type": "code",
   "execution_count": null,
   "id": "460a586b",
   "metadata": {},
   "outputs": [],
   "source": [
    "# -- load the 8-bit data\n",
    "clean0_8b = np.load(\"hsi0_clean_8bit_clip_0050.npy\")\n",
    "imgL0_8b = clean0_8b.mean(axis=0)\n",
    "spec0_8b = clean0_8b.mean(axis=(1, 2))"
   ]
  },
  {
   "cell_type": "code",
   "execution_count": null,
   "id": "0774ef4a",
   "metadata": {},
   "outputs": [],
   "source": [
    "# -- plot the luminosity image and integrated spectrum\n",
    "plt.close(\"all\")\n",
    "fig = plt.figure(figsize=(9, 6))\n",
    "bax = fig.add_axes((0.15, 0.65, 0.8, 0.25))\n",
    "# bax.plot(cube0.waves, spec0_8b)\n",
    "bax.plot(spec0_8b)\n",
    "bax.set_xlabel(\"wavelength [nm]\")\n",
    "bax.set_ylabel(\"intensity [arb units]\")\n",
    "tax = fig.add_axes((0.15, 0.1, 0.8, 0.45))\n",
    "tax.imshow(imgL0_8b, aspect=\"auto\", clim=(150, 175))"
   ]
  },
  {
   "cell_type": "markdown",
   "id": "2cd51951",
   "metadata": {},
   "source": [
    "---"
   ]
  },
  {
   "cell_type": "markdown",
   "id": "9523b032",
   "metadata": {},
   "source": [
    "## HSI1 Data Cleaning"
   ]
  },
  {
   "cell_type": "code",
   "execution_count": null,
   "id": "b7398d9b",
   "metadata": {},
   "outputs": [],
   "source": [
    "# -- read in the HSI1 scan\n",
    "cube1 = read_hyper(dpath1)"
   ]
  },
  {
   "cell_type": "code",
   "execution_count": null,
   "id": "dd0d45cf",
   "metadata": {},
   "outputs": [],
   "source": [
    "# -- clean HSI1\n",
    "clean1 = clean_hyper(cube1.data[:, ::5, ::5], niter=3)"
   ]
  },
  {
   "cell_type": "code",
   "execution_count": null,
   "id": "f7b5163c",
   "metadata": {},
   "outputs": [],
   "source": [
    "# -- figure out max clipping that leaves 0.1% of values unaffected\n",
    "((clean1 - clean1.min()) > 205).sum() / clean1.size"
   ]
  },
  {
   "cell_type": "code",
   "execution_count": null,
   "id": "e0480d88",
   "metadata": {},
   "outputs": [],
   "source": [
    "# -- write 8-bit\n",
    "write_hyper_8bit(\"hsi1_clean_8bit_clip_0205.npy\", clean1, 205)"
   ]
  },
  {
   "cell_type": "code",
   "execution_count": null,
   "id": "aa73e8e2",
   "metadata": {},
   "outputs": [],
   "source": [
    "# -- load the 8-bit data\n",
    "clean1_8b = np.load(\"hsi1_clean_8bit_clip_0205.npy\")\n",
    "imgL1_8b = clean1_8b.mean(axis=0)\n",
    "spec1_8b = clean1_8b.mean(axis=(1, 2))"
   ]
  },
  {
   "cell_type": "code",
   "execution_count": null,
   "id": "121999e4",
   "metadata": {},
   "outputs": [],
   "source": [
    "imgL1_8b.min()"
   ]
  },
  {
   "cell_type": "code",
   "execution_count": null,
   "id": "ed342276",
   "metadata": {},
   "outputs": [],
   "source": [
    "# -- plot the luminosity image and integrated spectrum\n",
    "plt.close(\"all\")\n",
    "fig = plt.figure(figsize=(9, 6))\n",
    "bax = fig.add_axes((0.15, 0.65, 0.8, 0.25))\n",
    "bax.grid(True)\n",
    "# bax.plot(cube1.waves, spec1_8b)\n",
    "bax.plot(spec1_8b)\n",
    "bax.set_xlabel(\"wavelength [nm]\")\n",
    "bax.set_ylabel(\"intensity [arb units]\")\n",
    "tax = fig.add_axes((0.15, 0.1, 0.8, 0.45))\n",
    "tax.imshow(imgL1_8b, aspect=\"auto\", clim=(160, 180))"
   ]
  },
  {
   "cell_type": "code",
   "execution_count": null,
   "id": "c7ba1a1b",
   "metadata": {},
   "outputs": [],
   "source": [
    "plt.close(\"all\")\n",
    "plt.plot(cube1.waves, clean1.mean(axis=(1, 2)))"
   ]
  },
  {
   "cell_type": "code",
   "execution_count": null,
   "id": "09ebf5a7",
   "metadata": {},
   "outputs": [],
   "source": []
  },
  {
   "cell_type": "code",
   "execution_count": null,
   "id": "94fcb843",
   "metadata": {},
   "outputs": [],
   "source": []
  },
  {
   "cell_type": "code",
   "execution_count": null,
   "id": "44dcc069",
   "metadata": {},
   "outputs": [],
   "source": []
  },
  {
   "cell_type": "code",
   "execution_count": null,
   "id": "682638df",
   "metadata": {},
   "outputs": [],
   "source": []
  },
  {
   "cell_type": "code",
   "execution_count": null,
   "id": "e0e13fda",
   "metadata": {},
   "outputs": [],
   "source": [
    "arr = cube0.data.astype(float)"
   ]
  },
  {
   "cell_type": "code",
   "execution_count": null,
   "id": "4924c94d",
   "metadata": {},
   "outputs": [],
   "source": [
    "darr = da.array(cube0.data.astype(float))"
   ]
  },
  {
   "cell_type": "code",
   "execution_count": null,
   "id": "3b078f2f",
   "metadata": {},
   "outputs": [],
   "source": [
    "t0 = time.time()\n",
    "img0 = arr.mean(axis=0)\n",
    "time.time() - t0"
   ]
  },
  {
   "cell_type": "code",
   "execution_count": null,
   "id": "5a19a21e",
   "metadata": {},
   "outputs": [],
   "source": [
    "t0 = time.time()\n",
    "img0 = darr.mean(axis=0).compute()\n",
    "time.time() - t0"
   ]
  },
  {
   "cell_type": "code",
   "execution_count": null,
   "id": "a564ba78",
   "metadata": {},
   "outputs": [],
   "source": [
    "img0[100, 201].compute()"
   ]
  },
  {
   "cell_type": "code",
   "execution_count": null,
   "id": "986726de",
   "metadata": {},
   "outputs": [],
   "source": []
  },
  {
   "cell_type": "code",
   "execution_count": null,
   "id": "2571159d",
   "metadata": {},
   "outputs": [],
   "source": []
  },
  {
   "cell_type": "code",
   "execution_count": null,
   "id": "b91efab7",
   "metadata": {},
   "outputs": [],
   "source": []
  },
  {
   "cell_type": "code",
   "execution_count": null,
   "id": "654fa97c",
   "metadata": {},
   "outputs": [],
   "source": [
    "arr = da.array(cube0.data.astype(float))"
   ]
  },
  {
   "cell_type": "code",
   "execution_count": null,
   "id": "ff0951c5",
   "metadata": {},
   "outputs": [],
   "source": []
  },
  {
   "cell_type": "code",
   "execution_count": null,
   "id": "e738f29c",
   "metadata": {},
   "outputs": [],
   "source": [
    "foo = sig_clipping_mean(arr, 2)"
   ]
  },
  {
   "cell_type": "code",
   "execution_count": null,
   "id": "7e8e1fea",
   "metadata": {},
   "outputs": [],
   "source": [
    "foo"
   ]
  },
  {
   "cell_type": "code",
   "execution_count": null,
   "id": "dca2bad3",
   "metadata": {},
   "outputs": [],
   "source": [
    "arr"
   ]
  },
  {
   "cell_type": "code",
   "execution_count": null,
   "id": "7981d7d0",
   "metadata": {},
   "outputs": [],
   "source": [
    "img0 = arr.mean(axis=0).compute()"
   ]
  },
  {
   "cell_type": "code",
   "execution_count": null,
   "id": "cf5d306c",
   "metadata": {},
   "outputs": [],
   "source": [
    "img1 = foo.mean(axis=0).compute()"
   ]
  },
  {
   "cell_type": "code",
   "execution_count": null,
   "id": "f45a9fe8",
   "metadata": {},
   "outputs": [],
   "source": [
    "plt.close(\"all\")\n",
    "plt.imshow(img0, aspect=\"auto\", clim=[0, 100])"
   ]
  },
  {
   "cell_type": "code",
   "execution_count": null,
   "id": "7d656461",
   "metadata": {},
   "outputs": [],
   "source": [
    "plt.close(\"all\")\n",
    "plt.imshow(img1, aspect=\"auto\", clim=[-10, 10])"
   ]
  },
  {
   "cell_type": "code",
   "execution_count": null,
   "id": "703e0d5e",
   "metadata": {},
   "outputs": [],
   "source": []
  },
  {
   "cell_type": "code",
   "execution_count": null,
   "id": "f24d95d9",
   "metadata": {},
   "outputs": [],
   "source": [
    "foo"
   ]
  },
  {
   "cell_type": "code",
   "execution_count": null,
   "id": "657117cd",
   "metadata": {},
   "outputs": [],
   "source": [
    "imgL0 = "
   ]
  },
  {
   "cell_type": "code",
   "execution_count": null,
   "id": "0d59a74f",
   "metadata": {},
   "outputs": [],
   "source": []
  },
  {
   "cell_type": "code",
   "execution_count": null,
   "id": "451c2518",
   "metadata": {},
   "outputs": [],
   "source": [
    "t0 = time.time()\n",
    "avg = da.ma.average(arr, axis=2)\n",
    "time.time() - t0"
   ]
  },
  {
   "cell_type": "code",
   "execution_count": null,
   "id": "47dff206",
   "metadata": {},
   "outputs": [],
   "source": [
    "da.expand_dims(avg, 2).shape"
   ]
  },
  {
   "cell_type": "code",
   "execution_count": null,
   "id": "42ac32ea",
   "metadata": {},
   "outputs": [],
   "source": []
  },
  {
   "cell_type": "code",
   "execution_count": null,
   "id": "847ac88a",
   "metadata": {},
   "outputs": [],
   "source": [
    "# -- perform 10-fold 3-sigma clipping across columns\n",
    "t0 = time.time()\n",
    "clean_col = sig_clipping_col(cube0.data)\n",
    "print(\"time to clean across columns : {0:.2f}\".format(time.time() - t0))"
   ]
  },
  {
   "cell_type": "code",
   "execution_count": null,
   "id": "e8d69498",
   "metadata": {},
   "outputs": [],
   "source": []
  }
 ],
 "metadata": {
  "kernelspec": {
   "display_name": "Python 3 (ipykernel)",
   "language": "python",
   "name": "python3"
  },
  "language_info": {
   "codemirror_mode": {
    "name": "ipython",
    "version": 3
   },
   "file_extension": ".py",
   "mimetype": "text/x-python",
   "name": "python",
   "nbconvert_exporter": "python",
   "pygments_lexer": "ipython3",
   "version": "3.9.12"
  }
 },
 "nbformat": 4,
 "nbformat_minor": 5
}
