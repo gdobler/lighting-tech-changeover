{
 "cells": [
  {
   "cell_type": "code",
   "execution_count": 6,
   "id": "2f537bc7",
   "metadata": {},
   "outputs": [],
   "source": [
    "import time\n",
    "import numpy as np\n",
    "import matplotlib.pyplot as plt"
   ]
  },
  {
   "cell_type": "code",
   "execution_count": 7,
   "id": "e3f216fb",
   "metadata": {},
   "outputs": [],
   "source": [
    "# -- read in building ID image\n",
    "bimg = np.load(\"../../Downloads/bbls_test.npy\")"
   ]
  },
  {
   "cell_type": "code",
   "execution_count": 25,
   "id": "75f227f9",
   "metadata": {},
   "outputs": [],
   "source": [
    "# -- set parameters\n",
    "nrow = bimg.shape[0]\n",
    "ncol = bimg.shape[1]\n",
    "nimg = 3240\n",
    "ntot = nrow * ncol * nimg"
   ]
  },
  {
   "cell_type": "code",
   "execution_count": 26,
   "id": "6d6ee87c",
   "metadata": {},
   "outputs": [
    {
     "data": {
      "text/plain": [
       "15908659200"
      ]
     },
     "execution_count": 26,
     "metadata": {},
     "output_type": "execute_result"
    }
   ],
   "source": [
    "ntot"
   ]
  },
  {
   "cell_type": "code",
   "execution_count": 20,
   "id": "4844f02c",
   "metadata": {},
   "outputs": [],
   "source": [
    "szs = np.round(np.logspace(5, 9, 10)).astype(int)\n",
    "times = []\n",
    "\n",
    "for sz in szs:\n",
    "    t0 = time.time()\n",
    "    np.random.seed(128)\n",
    "    noise = np.random.randn(sz)\n",
    "    times.append(time.time() - t0)"
   ]
  },
  {
   "cell_type": "code",
   "execution_count": 22,
   "id": "fd92ea79",
   "metadata": {},
   "outputs": [
    {
     "data": {
      "text/plain": [
       "[<matplotlib.lines.Line2D at 0x7f5d9c621ca0>]"
      ]
     },
     "execution_count": 22,
     "metadata": {},
     "output_type": "execute_result"
    },
    {
     "data": {
      "image/png": "[encoded data removed]",
      "text/plain": [
       "<Figure size 432x288 with 1 Axes>"
      ]
     },
     "metadata": {
      "needs_background": "light"
     },
     "output_type": "display_data"
    }
   ],
   "source": [
    "plt.plot(szs, times, \"o\")"
   ]
  },
  {
   "cell_type": "code",
   "execution_count": 23,
   "id": "03421f73",
   "metadata": {},
   "outputs": [],
   "source": [
    "slope, offset = np.polyfit(szs, times, 1)"
   ]
  },
  {
   "cell_type": "code",
   "execution_count": 24,
   "id": "e676dca2",
   "metadata": {},
   "outputs": [
    {
     "data": {
      "text/plain": [
       "[<matplotlib.lines.Line2D at 0x7f5d9c66d1c0>]"
      ]
     },
     "execution_count": 24,
     "metadata": {},
     "output_type": "execute_result"
    },
    {
     "data": {
      "image/png": "[encoded data removed]",
      "text/plain": [
       "<Figure size 432x288 with 1 Axes>"
      ]
     },
     "metadata": {
      "needs_background": "light"
     },
     "output_type": "display_data"
    }
   ],
   "source": [
    "plt.plot(szs, times, \"o\")\n",
    "plt.plot(szs, slope * szs + offset)"
   ]
  },
  {
   "cell_type": "code",
   "execution_count": 28,
   "id": "f0df103b",
   "metadata": {},
   "outputs": [
    {
     "data": {
      "text/plain": [
       "0.04082173045324737"
      ]
     },
     "execution_count": 28,
     "metadata": {},
     "output_type": "execute_result"
    }
   ],
   "source": [
    "slope * ntot / 6400 + offset"
   ]
  },
  {
   "cell_type": "code",
   "execution_count": 29,
   "id": "ee49b1e9",
   "metadata": {},
   "outputs": [
    {
     "ename": "SyntaxError",
     "evalue": "invalid character '±' (U+00B1) (3707438584.py, line 1)",
     "output_type": "error",
     "traceback": [
      "\u001b[0;36m  Input \u001b[0;32mIn [29]\u001b[0;36m\u001b[0m\n\u001b[0;31m    a ± ∆a\u001b[0m\n\u001b[0m      ^\u001b[0m\n\u001b[0;31mSyntaxError\u001b[0m\u001b[0;31m:\u001b[0m invalid character '±' (U+00B1)\n"
     ]
    }
   ],
   "source": [
    "0 ± ∆a\n",
    "0 ± ∆a\n",
    "c = (0 + 0)/2 = 0\n",
    "∆c = sqrt(∆a^2 + ∆a^2) = sqrt(2) * ∆a / 2 = ∆a / sqrt(2)"
   ]
  },
  {
   "cell_type": "code",
   "execution_count": 1,
   "id": "aff0db5a",
   "metadata": {},
   "outputs": [],
   "source": [
    "import math"
   ]
  },
  {
   "cell_type": "code",
   "execution_count": 2,
   "id": "53684096",
   "metadata": {},
   "outputs": [
    {
     "data": {
      "text/plain": [
       "0.000125"
      ]
     },
     "execution_count": 2,
     "metadata": {},
     "output_type": "execute_result"
    }
   ],
   "source": [
    "0.01/math.sqrt(6400)"
   ]
  },
  {
   "cell_type": "code",
   "execution_count": null,
   "id": "ac9b5512",
   "metadata": {},
   "outputs": [],
   "source": [
    "0.01/80 "
   ]
  }
 ],
 "metadata": {
  "kernelspec": {
   "display_name": "Python 3 (ipykernel)",
   "language": "python",
   "name": "python3"
  },
  "language_info": {
   "codemirror_mode": {
    "name": "ipython",
    "version": 3
   },
   "file_extension": ".py",
   "mimetype": "text/x-python",
   "name": "python",
   "nbconvert_exporter": "python",
   "pygments_lexer": "ipython3",
   "version": "3.9.12"
  }
 },
 "nbformat": 4,
 "nbformat_minor": 5
}
