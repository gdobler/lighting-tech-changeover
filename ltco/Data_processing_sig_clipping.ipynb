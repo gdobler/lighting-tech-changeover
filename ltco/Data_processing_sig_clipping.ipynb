{
 "cells": [
  {
   "cell_type": "code",
   "execution_count": 1,
   "id": "301efaaa",
   "metadata": {},
   "outputs": [],
   "source": [
    "import os\n",
    "import time\n",
    "import numpy as np\n",
    "import matplotlib.pyplot as plt\n",
    "import dask.array as da\n",
    "from hyss_util import *"
   ]
  },
  {
   "cell_type": "code",
   "execution_count": 2,
   "id": "712a06d2",
   "metadata": {},
   "outputs": [],
   "source": [
    "# -- set the data paths\n",
    "dpath0 = os.path.join(os.environ[\"LTCO_HSI0\"], \"full frame 20ms faster_VNIR.raw\")\n",
    "dpath1 = os.path.join(os.environ[\"LTCO_HSI1\"], \"night_00000.raw\")"
   ]
  },
  {
   "cell_type": "code",
   "execution_count": null,
   "id": "ace95f62",
   "metadata": {},
   "outputs": [],
   "source": []
  }
 ],
 "metadata": {
  "kernelspec": {
   "display_name": "Python 3 (ipykernel)",
   "language": "python",
   "name": "python3"
  },
  "language_info": {
   "codemirror_mode": {
    "name": "ipython",
    "version": 3
   },
   "file_extension": ".py",
   "mimetype": "text/x-python",
   "name": "python",
   "nbconvert_exporter": "python",
   "pygments_lexer": "ipython3",
   "version": "3.9.12"
  }
 },
 "nbformat": 4,
 "nbformat_minor": 5
}
