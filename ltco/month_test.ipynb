{
 "cells": [
  {
   "cell_type": "code",
   "execution_count": 1,
   "id": "b4b2d13b",
   "metadata": {},
   "outputs": [],
   "source": [
    "import os\n",
    "import numpy as np\n",
    "import random\n",
    "import glob\n",
    "import math\n",
    "import pandas as pd\n",
    "import time\n",
    "import matplotlib.pyplot as plt"
   ]
  },
  {
   "cell_type": "code",
   "execution_count": 2,
   "id": "5fe5cced",
   "metadata": {},
   "outputs": [],
   "source": [
    "%matplotlib widget"
   ]
  },
  {
   "cell_type": "code",
   "execution_count": 3,
   "id": "592aff70",
   "metadata": {},
   "outputs": [],
   "source": [
    "plt.style.use(\"bmh\")\n",
    "\n",
    "# -- set grayscale to be the default color map \n",
    "# plt.rcParams[\"image.cmap\"] = \"gist_gray\"\n",
    "plt.rcParams[\"axes.grid\"] = False\n",
    "plt.rcParams[\"figure.figsize\"] = (15, 8)\n",
    "plt.rcParams['axes.titlepad'] = 0 "
   ]
  },
  {
   "cell_type": "code",
   "execution_count": 4,
   "id": "0ee29887",
   "metadata": {},
   "outputs": [],
   "source": [
    "# def create_source_locations(bimg, seed):\n",
    "#     \"\"\"\n",
    "#     Create locations for sources\n",
    "#     \"\"\"\n",
    "\n",
    "#     # -- seed the random number generators\n",
    "#     np.random.seed(seed)\n",
    "    \n",
    "#     # -- get the code for each building \n",
    "#     bcodes = np.unique(bimg)\n",
    "\n",
    "#     # -- initialize location lists/arrays\n",
    "#     location = []\n",
    "    \n",
    "#     # -- since code == 0 represents the background, we start from 1\n",
    "#     for i, bcode in enumerate(bcodes):\n",
    "\n",
    "#         # -- ignore background\n",
    "#         if bcode == 0:\n",
    "#             continue\n",
    "        \n",
    "#         # -- alert the user\n",
    "#         if (i + 1) % 100 == 0:\n",
    "#             print(\"working on {0} of {1}\\r\".format(i + 1, len(bcodes)), end=\"\")\n",
    "        \n",
    "#         # -- get pixels' location for each building (ind[0] is the row value and ind[1] is the col value)\n",
    "#         ind = np.where(bimg == bcode)\n",
    "    \n",
    "#         # -- get locations for selected sources\n",
    "#         loc = np.array(ind).T\n",
    "    \n",
    "#         # -- shuffle it\n",
    "#         np.random.shuffle(loc)\n",
    "    \n",
    "#         # -- select sources for every 100 pixels\n",
    "#         pix_loc = loc[::100]\n",
    "    \n",
    "#         location.append(np.array(pix_loc)) \n",
    "    \n",
    "#     return np.concatenate(location)"
   ]
  },
  {
   "cell_type": "code",
   "execution_count": 5,
   "id": "ffb787a9",
   "metadata": {},
   "outputs": [],
   "source": [
    "# def create_timeseries(nsrc, ntimesteps, seed):\n",
    "#     \"\"\"\n",
    "#     Create simulated time series.\n",
    "#     \"\"\"\n",
    "    \n",
    "#     # -- seed the random number generators\n",
    "#     np.random.seed(seed)\n",
    "\n",
    "#     # -- initialize time series lists/arrays\n",
    "#     srcs = []\n",
    "#     src_tmp = np.zeros(ntimesteps)\n",
    "        \n",
    "#     # -- add brightness for each source\n",
    "#     for j in range(nsrc):\n",
    "\n",
    "#         # -- alert the user\n",
    "#         if (j + 1) % 100 == 0:\n",
    "#             print(\"working on {0} of {1}\\r\".format(j + 1, nsrc), end=\"\")\n",
    "        \n",
    "#         # -- we assume that each source will turn on and off no more than 10 times a night\n",
    "#         # -- generate a random number for lights on\n",
    "#         n_ons = np.random.randint(1, 10)\n",
    " \n",
    "#         # -- add brightness for each \"on\" period\n",
    "#         for jj in range(0, n_ons):\n",
    "            \n",
    "#             # -- pick a random start point (0-1800), which is 9pm to 2am\n",
    "#             st = np.random.randint(0, 1800)\n",
    "            \n",
    "#             # -- the length of turning on the lights is between 10 mins to 1hours\n",
    "#             en = st + np.random.randint(60, 360)\n",
    "                        \n",
    "#             # -- generate random brightness value to my list\n",
    "#             on_lum = round(np.random.uniform(0.1, 1.0), 2)\n",
    "\n",
    "#             # -- add this to the source\n",
    "#             src_tmp[st:en] += on_lum\n",
    "            \n",
    "#         # -- append to source list\n",
    "#         srcs.append(src_tmp.copy())\n",
    "            \n",
    "#         # -- re-zero source\n",
    "#         src_tmp[:] = 0.0\n",
    "    \n",
    "#     return np.array(srcs)"
   ]
  },
  {
   "cell_type": "code",
   "execution_count": 6,
   "id": "8648c29a",
   "metadata": {},
   "outputs": [],
   "source": [
    "# # -- create time series images for a month\n",
    "# seed_loc = 315\n",
    "# seed_ts = 964\n",
    "\n",
    "# # -- set number of time steps (9 hours assuming 10 seconds / image )\n",
    "# ntsteps = 6 * 60 * 9\n",
    "\n",
    "# for i in range(30):\n",
    "    \n",
    "#     seed_ts = seed_ts + 1\n",
    "    \n",
    "#     # -- get the locations\n",
    "#     loc_fname = \"../../lighting-tech-changeover/output/simulation_month/img_simu_loc_{0:06}.npy\".format(seed_loc)\n",
    "\n",
    "#     if os.path.isfile(loc_fname):\n",
    "#         loc = np.load(loc_fname)\n",
    "#     else:\n",
    "#         print(loc_fname + \" not found... creating source locations\")\n",
    "#         loc = create_source_locations(bimg, seed_loc)\n",
    "#         np.save(loc_fname, loc)\n",
    "\n",
    "#     # -- get the corresponding time series\n",
    "#     ts_fname = \"../../lighting-tech-changeover/output/simulation_month/img_simu_src_curve_{0:06}.npy\".format(seed_ts)\n",
    "\n",
    "#     if os.path.isfile(ts_fname):\n",
    "#         srcs = np.load(ts_fname)\n",
    "#     else:\n",
    "#         print(ts_fname + \" not found... creating source times series\")\n",
    "#         srcs = create_timeseries(len(loc), ntsteps, seed_ts)\n",
    "#         np.save(ts_fname, srcs)\n",
    "    \n",
    "               \n",
    "    "
   ]
  },
  {
   "cell_type": "code",
   "execution_count": 4,
   "id": "865366ec",
   "metadata": {},
   "outputs": [],
   "source": [
    "seed_loc = 315\n",
    "# -- get the locations\n",
    "loc_fname = \"../../lighting-tech-changeover/output/simulation_month/img_simu_loc_{0:06}.npy\".format(seed_loc)\n",
    "\n",
    "loc = np.load(loc_fname)\n",
    "\n",
    "seed_ts = 964\n",
    "ts_fname = \"../../lighting-tech-changeover/output/simulation_month/img_simu_src_curve_{0:06}.npy\".format(seed_ts)\n",
    "srcs = np.load(ts_fname)"
   ]
  },
  {
   "cell_type": "code",
   "execution_count": 8,
   "id": "97cb6623",
   "metadata": {},
   "outputs": [
    {
     "data": {
      "text/plain": [
       "[<matplotlib.lines.Line2D at 0x7fd44c0ef850>]"
      ]
     },
     "execution_count": 8,
     "metadata": {},
     "output_type": "execute_result"
    },
    {
     "data": {
      "application/vnd.jupyter.widget-view+json": {
       "model_id": "9bc92fa437e84fc59ffd8f9743853ee7",
       "version_major": 2,
       "version_minor": 0
      },
      "image/png": "[encoded data removed]",
      "text/html": [
       "\n",
       "            <div style=\"display: inline-block;\">\n",
       "                <div class=\"jupyter-widgets widget-label\" style=\"text-align: center;\">\n",
       "                    Figure\n",
       "                </div>\n",
       "                <img src='data:image/png;base64,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' width=800.0/>\n",
       "            </div>\n",
       "        "
      ],
      "text/plain": [
       "Canvas(toolbar=Toolbar(toolitems=[('Home', 'Reset original view', 'home', 'home'), ('Back', 'Back to previous …"
      ]
     },
     "metadata": {},
     "output_type": "display_data"
    }
   ],
   "source": [
    "plt.figure(figsize=(8, 3))\n",
    "plt.plot(img_bin_noise[0,0,:])"
   ]
  },
  {
   "cell_type": "code",
   "execution_count": null,
   "id": "44ca9e7a",
   "metadata": {},
   "outputs": [],
   "source": []
  },
  {
   "cell_type": "code",
   "execution_count": null,
   "id": "ae90a14a",
   "metadata": {},
   "outputs": [],
   "source": []
  },
  {
   "cell_type": "code",
   "execution_count": null,
   "id": "8ecd23d2",
   "metadata": {},
   "outputs": [],
   "source": []
  },
  {
   "cell_type": "code",
   "execution_count": null,
   "id": "ce58ce75",
   "metadata": {},
   "outputs": [],
   "source": []
  },
  {
   "cell_type": "code",
   "execution_count": 7,
   "id": "ce11f5ba",
   "metadata": {},
   "outputs": [],
   "source": [
    "\n",
    "    \n",
    "    seed_loc = 315\n",
    "    # -- get the locations\n",
    "    loc_fname = \"../../lighting-tech-changeover/output/simulation_month/img_simu_loc_{0:06}.npy\".format(seed_loc)\n",
    "\n",
    "    loc = np.load(loc_fname)\n"
   ]
  },
  {
   "cell_type": "code",
   "execution_count": 8,
   "id": "3e00fde4",
   "metadata": {},
   "outputs": [],
   "source": [
    "# -- read in building ID image\n",
    "bimg = np.load(\"../../Downloads/bbls_test.npy\")\n",
    "\n",
    "def create_bin_img(srcs):\n",
    "    \n",
    "\n",
    "\n",
    "    # -- duplicate each light curve by nine times\n",
    "    src0 = np.repeat(srcs, repeats=9, axis=0)\n",
    "\n",
    "    # -- get full list of source location\n",
    "    loc_new = []\n",
    "    for i in range(len(loc)):\n",
    "        loc0 = (loc[i][0] + 1, loc[i][1])\n",
    "        loc1 = (loc[i][0] - 1, loc[i][1])\n",
    "        loc2 = (loc[i][0], loc[i][1])\n",
    "        loc3 = (loc[i][0], loc[i][1] + 1)\n",
    "        loc4 = (loc[i][0], loc[i][1] - 1)\n",
    "        loc5 = (loc[i][0] - 1, loc[i][1] - 1)\n",
    "        loc6 = (loc[i][0] - 1, loc[i][1] + 1)\n",
    "        loc7 = (loc[i][0] + 1, loc[i][1] - 1)\n",
    "        loc8 = (loc[i][0] + 1, loc[i][1] + 1)\n",
    "    \n",
    "    \n",
    "        loc_new.append(loc0)\n",
    "        loc_new.append(loc1)\n",
    "        loc_new.append(loc2)\n",
    "        loc_new.append(loc3)\n",
    "        loc_new.append(loc4)\n",
    "        loc_new.append(loc5)\n",
    "        loc_new.append(loc6)\n",
    "        loc_new.append(loc7)\n",
    "        loc_new.append(loc8)\n",
    "\n",
    "    # -- add sources curve to time series images (try/except to handle boundaries)\n",
    "    t0 = time.time()\n",
    "    imgs = np.zeros((2560, 1920, 3240))\n",
    "    print(time.time() - t0)\n",
    "    for i in range(len(loc_new)):\n",
    "        try:\n",
    "            imgs[loc_new[i][0], loc_new[i][1], :] = src0[i]\n",
    "        except:\n",
    "            continue\n",
    "\n",
    "    \n",
    "    return imgs"
   ]
  },
  {
   "cell_type": "code",
   "execution_count": 9,
   "id": "a56570dc",
   "metadata": {},
   "outputs": [
    {
     "name": "stdout",
     "output_type": "stream",
     "text": [
      "1.3113021850585938e-05\n"
     ]
    }
   ],
   "source": [
    "    seed_ts = 972\n",
    "    seed_noise = 347\n",
    "\n",
    "    \n",
    "    \n",
    "    # -- get the corresponding time series\n",
    "    ts_fname = \"../../lighting-tech-changeover/output/simulation_month/img_simu_src_curve_{0:06}.npy\".format(seed_ts)\n",
    "    srcs = np.load(ts_fname)\n",
    "    \n",
    "    imgs = create_bin_img(srcs)\n",
    "\n",
    "    # -- add noise to the image\n",
    "    sh = imgs.shape\n",
    "    \n",
    "#     seed_noise = seed_noise+1\n",
    "    avg = 0\n",
    "    sigma = 0.01\n",
    "\n",
    "    np.random.seed(seed_noise)\n",
    "\n",
    "    # -- add noise to binned image\n",
    "    for i in range(3240):\n",
    "    \n",
    "        imgs[:, :, i] = imgs[:, :, i] + \\\n",
    "            np.random.normal(avg, sigma, (sh[0], sh[1]))\n",
    "\n",
    "    # -- get selected builing's source\n",
    "    ind = np.where(bimg == 1008310042)\n",
    "    buid_loc = np.array([ind[0],ind[1]]).T   \n",
    "\n",
    "    src_lc = []\n",
    "    for i in range(len(buid_loc)):\n",
    "        lc = imgs[buid_loc[i][0], buid_loc[i][1], :]\n",
    "        src_lc.append(lc)\n",
    "\n",
    "\n",
    "    np.save(\"../../lighting-tech-changeover/output/src_month_build/src_curve_month{0:06}.npy\".format(seed_ts), src_lc)"
   ]
  },
  {
   "cell_type": "code",
   "execution_count": 2,
   "id": "77e6b9de",
   "metadata": {},
   "outputs": [],
   "source": [
    "seed_ts = 964"
   ]
  },
  {
   "cell_type": "code",
   "execution_count": 3,
   "id": "0e4e959d",
   "metadata": {},
   "outputs": [],
   "source": [
    " test = np.load(\"../../lighting-tech-changeover/output/src_month_build/src_curve_month{0:06}.npy\".format(seed_ts))"
   ]
  },
  {
   "cell_type": "code",
   "execution_count": 11,
   "id": "157caa64",
   "metadata": {},
   "outputs": [
    {
     "data": {
      "text/plain": [
       "[<matplotlib.lines.Line2D at 0x7f88670d7640>]"
      ]
     },
     "execution_count": 11,
     "metadata": {},
     "output_type": "execute_result"
    },
    {
     "data": {
      "application/vnd.jupyter.widget-view+json": {
       "model_id": "f33d7c3b3f91418bbe980a81bcb36b86",
       "version_major": 2,
       "version_minor": 0
      },
      "image/png": "[encoded data removed]",
      "text/html": [
       "\n",
       "            <div style=\"display: inline-block;\">\n",
       "                <div class=\"jupyter-widgets widget-label\" style=\"text-align: center;\">\n",
       "                    Figure\n",
       "                </div>\n",
       "                <img src='data:image/png;base64,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' width=800.0/>\n",
       "            </div>\n",
       "        "
      ],
      "text/plain": [
       "Canvas(toolbar=Toolbar(toolitems=[('Home', 'Reset original view', 'home', 'home'), ('Back', 'Back to previous …"
      ]
     },
     "metadata": {},
     "output_type": "display_data"
    }
   ],
   "source": [
    "plt.figure(figsize=(8, 3))\n",
    "plt.plot(imgs[buid_loc[300][0], buid_loc[300][1], :])"
   ]
  },
  {
   "cell_type": "code",
   "execution_count": 66,
   "id": "cdf08c61",
   "metadata": {},
   "outputs": [],
   "source": [
    "test0 = imgs[buid_loc[300][0], buid_loc[300][1], :]"
   ]
  },
  {
   "cell_type": "code",
   "execution_count": 62,
   "id": "9c8d0b9d",
   "metadata": {},
   "outputs": [
    {
     "data": {
      "text/plain": [
       "[<matplotlib.lines.Line2D at 0x7f13e4626e80>]"
      ]
     },
     "execution_count": 62,
     "metadata": {},
     "output_type": "execute_result"
    },
    {
     "data": {
      "application/vnd.jupyter.widget-view+json": {
       "model_id": "3f24ad6f3bde4d9c87a647f6ae1b2db8",
       "version_major": 2,
       "version_minor": 0
      },
      "image/png": "[encoded data removed]",
      "text/html": [
       "\n",
       "            <div style=\"display: inline-block;\">\n",
       "                <div class=\"jupyter-widgets widget-label\" style=\"text-align: center;\">\n",
       "                    Figure\n",
       "                </div>\n",
       "                <img src='data:image/png;base64,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' width=800.0/>\n",
       "            </div>\n",
       "        "
      ],
      "text/plain": [
       "Canvas(toolbar=Toolbar(toolitems=[('Home', 'Reset original view', 'home', 'home'), ('Back', 'Back to previous …"
      ]
     },
     "metadata": {},
     "output_type": "display_data"
    }
   ],
   "source": [
    "plt.figure(figsize=(8, 3))\n",
    "plt.plot(imgs[buid_loc[300][0], buid_loc[300][1], :])"
   ]
  },
  {
   "cell_type": "code",
   "execution_count": 45,
   "id": "6783cbdd",
   "metadata": {},
   "outputs": [
    {
     "data": {
      "text/plain": [
       "308"
      ]
     },
     "execution_count": 45,
     "metadata": {},
     "output_type": "execute_result"
    }
   ],
   "source": [
    "build_src = []\n",
    "\n",
    "for i in range(len(buid_loc)):\n",
    "    src = imgs[buid_loc[i][0], buid_loc[i][1], :]\n",
    "    build_src.append(src)\n",
    "\n",
    "np.save(\"../../lighting-tech-changeover/output/src_month_build/src_curve_month{0:06}.npy\".format(seed_ts))\n",
    "    "
   ]
  },
  {
   "cell_type": "code",
   "execution_count": 5,
   "id": "ab4f2c9f",
   "metadata": {},
   "outputs": [],
   "source": [
    "def add_noise(imgs, noise=None):\n",
    "    \"\"\"\n",
    "    Bin sequence of images (nrow,ncol,ntsteps) and add noise if desired.\n",
    "    If adding noise, set noise kw to be a tuple of (seed, mean, sigma[unbinned])\n",
    "    \"\"\"\n",
    "    \n",
    "    sh = imgs.shape\n",
    "    \n",
    "\n",
    "    # -- add gaussian noise\n",
    "    seed_noise, avg, sigma = noise\n",
    "    \n",
    "    np.random.seed(seed_noise)\n",
    "\n",
    "    # -- add noise to binned image\n",
    "\n",
    "    for i in range(3240):\n",
    "        imgs[:, :, i] = imgs[:, :, i] + \\\n",
    "            np.random.normal(avg, sigma, (sh[0], sh[1]))\n",
    "        \n",
    "    return imgs"
   ]
  },
  {
   "cell_type": "code",
   "execution_count": null,
   "id": "5c6f744b",
   "metadata": {},
   "outputs": [],
   "source": [
    "1008310042"
   ]
  },
  {
   "cell_type": "code",
   "execution_count": 9,
   "id": "a5f69711",
   "metadata": {},
   "outputs": [],
   "source": [
    "# We already have sources' time-series light-curve for a month\n",
    "# Now I would like to calculate it's time series mean value for a given building"
   ]
  },
  {
   "cell_type": "code",
   "execution_count": null,
   "id": "70b5e417",
   "metadata": {},
   "outputs": [],
   "source": []
  }
 ],
 "metadata": {
  "kernelspec": {
   "display_name": "Python 3 (ipykernel)",
   "language": "python",
   "name": "python3"
  },
  "language_info": {
   "codemirror_mode": {
    "name": "ipython",
    "version": 3
   },
   "file_extension": ".py",
   "mimetype": "text/x-python",
   "name": "python",
   "nbconvert_exporter": "python",
   "pygments_lexer": "ipython3",
   "version": "3.9.12"
  }
 },
 "nbformat": 4,
 "nbformat_minor": 5
}
